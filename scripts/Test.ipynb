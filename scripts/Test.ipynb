{
 "cells": [
  {
   "cell_type": "code",
   "execution_count": 1,
   "metadata": {
    "collapsed": false
   },
   "outputs": [],
   "source": [
    "import sys\n",
    "if sys.version_info < (3,0):\n",
    "    raise Exception(\"Please use Python version 3 or greater.\")\n",
    "from IBMQuantumExperience import IBMQuantumExperience"
   ]
  },
  {
   "cell_type": "code",
   "execution_count": 5,
   "metadata": {
    "collapsed": false
   },
   "outputs": [],
   "source": [
    "import Qconfig\n",
    "api = IBMQuantumExperience.IBMQuantumExperience(Qconfig.APItoken, Qconfig.config)"
   ]
  },
  {
   "cell_type": "code",
   "execution_count": 12,
   "metadata": {
    "collapsed": true
   },
   "outputs": [],
   "source": [
    "make_bell = \"\"\"\n",
    "OPENQASM 2.0;\n",
    "include \"qelib1.inc\";\n",
    "\n",
    "qreg q[5];\n",
    "creg c[5];\n",
    "\n",
    "h q[0];\n",
    "h q[1];\n",
    "id q[2];\n",
    "h q[3];\n",
    "cx q[0],q[2];\n",
    "id q[3];\n",
    "id q[0];\n",
    "id q[1];\n",
    "x q[2];\n",
    "id q[3];\n",
    "id q[0];\n",
    "id q[1];\n",
    "h q[2];\n",
    "id q[3];\n",
    "id q[0];\n",
    "cx q[1],q[2];\n",
    "id q[3];\n",
    "id q[0];\n",
    "sdg q[1];\n",
    "cx q[3],q[2];\n",
    "id q[0];\n",
    "h q[1];\n",
    "h q[2];\n",
    "sdg q[3];\n",
    "tdg q[0];\n",
    "tdg q[1];\n",
    "tdg q[2];\n",
    "h q[3];\n",
    "cx q[0],q[1];\n",
    "h q[2];\n",
    "id q[3];\n",
    "id q[0];\n",
    "t q[1];\n",
    "id q[2];\n",
    "id q[3];\n",
    "cx q[0],q[1];\n",
    "id q[2];\n",
    "id q[3];\n",
    "h q[0];\n",
    "id q[1];\n",
    "id q[2];\n",
    "id q[3];\n",
    "cx q[1],q[2];\n",
    "cx q[0],q[2];\n",
    "cx q[3],q[2];\n",
    "measure q[2] -> c[2];\"\"\""
   ]
  },
  {
   "cell_type": "code",
   "execution_count": 13,
   "metadata": {
    "collapsed": false
   },
   "outputs": [
    {
     "name": "stdout",
     "output_type": "stream",
     "text": [
      "RUNNING\n"
     ]
    }
   ],
   "source": [
    "out = api.run_job(qasms = [{'qasm' : make_bell}],device = 'sim',shots = 1024, max_credits=3)\n",
    "print(out['status'])"
   ]
  },
  {
   "cell_type": "code",
   "execution_count": 14,
   "metadata": {
    "collapsed": false
   },
   "outputs": [
    {
     "name": "stdout",
     "output_type": "stream",
     "text": [
      "RUNNING\n",
      "COMPLETED\n"
     ]
    }
   ],
   "source": [
    "import time\n",
    "jobids=out['id']\n",
    "results = api.get_job(jobids)\n",
    "print(results['status'])\n",
    "while (results['status'] == 'RUNNING'):\n",
    "    time.sleep(2)\n",
    "    results = api.get_job(jobids)\n",
    "    print(results['status'])"
   ]
  },
  {
   "cell_type": "code",
   "execution_count": 15,
   "metadata": {
    "collapsed": false
   },
   "outputs": [
    {
     "data": {
      "image/png": "[encoded data removed]",
      "text/plain": [
       "<matplotlib.figure.Figure at 0x7fe191a93a20>"
      ]
     },
     "metadata": {},
     "output_type": "display_data"
    }
   ],
   "source": [
    "get_data = lambda results, i: results['qasms'][i]['result']['data']['counts']\n",
    "data=get_data(results,0)\n",
    "from qhelpers.basicplotter import plot_histogram\n",
    "plot_histogram(data)"
   ]
  }
 ],
 "metadata": {
  "kernelspec": {
   "display_name": "Python 3",
   "language": "python",
   "name": "python3"
  },
  "language_info": {
   "codemirror_mode": {
    "name": "ipython",
    "version": 3
   },
   "file_extension": ".py",
   "mimetype": "text/x-python",
   "name": "python",
   "nbconvert_exporter": "python",
   "pygments_lexer": "ipython3",
   "version": "3.6.0"
  }
 },
 "nbformat": 4,
 "nbformat_minor": 2
}
